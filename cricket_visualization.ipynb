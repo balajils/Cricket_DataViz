{
 "cells": [
  {
   "cell_type": "code",
   "execution_count": 22,
   "id": "30447a43-b846-4b50-96c1-a4f1eec34242",
   "metadata": {},
   "outputs": [],
   "source": [
    "import requests\n",
    "import pandas as pd\n",
    "import numpy as np\n",
    "from selenium import webdriver\n",
    "from selenium.webdriver.common.by import By\n",
    "from webdriver_manager.chrome import ChromeDriverManager\n",
    "from datetime import datetime\n",
    "import csv\n",
    "import time"
   ]
  },
  {
   "cell_type": "code",
   "execution_count": 23,
   "id": "b56105a4-66fa-4191-8df0-6904f430f449",
   "metadata": {},
   "outputs": [],
   "source": [
    "chrome_options = webdriver.ChromeOptions()\n",
    "chrome_options.add_experimental_option(\"detach\",True)\n",
    "\n",
    "Attributes = [\"Player\",\"Country\",\"Runs\",\"Balls Faced\",\"4s\",\"6s\",\"Strike Rate\",\"Inns\",\"Opposition\",\"Ground\",\"Date\"]\n",
    "write_to_csv(Attributes) #Creates a csv file and adds the header\n",
    "url = \"https://stats.espncricinfo.com/ci/engine/stats/index.html?class=2;filter=advanced;orderby=start;orderbyad=reverse;runsmin1=100;runsval1=runs;size=200;spanmax1=25+Nov+2023;spanval1=span;template=results;type=batting;view=innings\""
   ]
  },
  {
   "cell_type": "code",
   "execution_count": 24,
   "id": "9253e362-8f68-48b1-ac65-a484dbc531aa",
   "metadata": {},
   "outputs": [],
   "source": [
    "#This module will scrap data from ESPNCricinfo one element at a time\n",
    "def scrap_row (driver,row,column):\n",
    "    data = driver.find_element(By.XPATH,'//*[@id=\"ciHomeContentlhs\"]/div[3]/table[3]/tbody/tr['+str(row)+']/td['+str(column)+']')\n",
    "    return data.text\n",
    "\n",
    "#This module will be used to write the scrapped data one entry (one row) at a time\n",
    "def write_to_csv(Data):\n",
    "    with open('ESPNCricinfo.csv', 'a', encoding='UTF8', newline='') as f:\n",
    "        writer = csv.writer(f)\n",
    "        writer.writerow(Data)\n",
    "        f.close()\n",
    "\n",
    "#This module is to clean the data and change data types for further analysis\n",
    "def data_clean(Data):\n",
    "    #Below commands are to clean the data and change data types for further analysis\n",
    "    Data.insert(1,Data[0][Data[0].index('(')+1:-1])\n",
    "    Data[0]=Data[0][:Data[0].index('(')-1]\n",
    "    Data[8]=Data[8][2:]\n",
    "    if Data[2][len(Data[2])-1]=='*':\n",
    "        Data[2]=Data[2][:-1]\n",
    "    Data[2:4] = [int(i) if i.isdigit() else 0 for i in Data[2:4]]\n",
    "    Data[6]=float(Data[6])\n",
    "    Data[7]=int(Data[7])\n",
    "    Data[10]=datetime.strptime(Data[10],'%d %b %Y').date()\n",
    "    return Data"
   ]
  }
 ],
 "metadata": {
  "kernelspec": {
   "display_name": "Python 3 (ipykernel)",
   "language": "python",
   "name": "python3"
  },
  "language_info": {
   "codemirror_mode": {
    "name": "ipython",
    "version": 3
   },
   "file_extension": ".py",
   "mimetype": "text/x-python",
   "name": "python",
   "nbconvert_exporter": "python",
   "pygments_lexer": "ipython3",
   "version": "3.12.0"
  }
 },
 "nbformat": 4,
 "nbformat_minor": 5
}
